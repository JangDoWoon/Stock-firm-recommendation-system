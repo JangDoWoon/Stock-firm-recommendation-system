{
  "nbformat": 4,
  "nbformat_minor": 0,
  "metadata": {
    "kernelspec": {
      "display_name": "Python 3",
      "language": "python",
      "name": "python3"
    },
    "language_info": {
      "codemirror_mode": {
        "name": "ipython",
        "version": 3
      },
      "file_extension": ".py",
      "mimetype": "text/x-python",
      "name": "python",
      "nbconvert_exporter": "python",
      "pygments_lexer": "ipython3",
      "version": "3.7.6"
    },
    "colab": {
      "name": "Create dataset.ipynb",
      "provenance": []
    }
  },
  "cells": [
    {
      "cell_type": "code",
      "metadata": {
        "id": "v13pp9Oya-5I"
      },
      "source": [
        "import numpy as np\n",
        "import pandas as pd\n",
        "import random"
      ],
      "execution_count": null,
      "outputs": []
    },
    {
      "cell_type": "code",
      "metadata": {
        "id": "AcXubg3Ba-5J"
      },
      "source": [
        "df = pd.DataFrame(index = [i for i in range(10000)],columns = [['person_id','성별','나이','직업','소득(연)','자산','월별 카드 값','주식','선물옵션','장내채권']])"
      ],
      "execution_count": null,
      "outputs": []
    },
    {
      "cell_type": "code",
      "metadata": {
        "id": "OeYGfcofa-5J"
      },
      "source": [
        "# 성별, 나이추가 \n",
        "# 성별은 남자 0, 여자 1, 나이는 20세~70세까지 10단위(20세~29세 : 0, 30세~39세:1,..., 60~69 : 4)\n",
        "for i in range(10000):\n",
        "    df.iloc[i]['person_id'] = int(10000+i)\n",
        "for i in range(10000):\n",
        "    df.iloc[i]['성별'] = random.randrange(0,2)\n",
        "for i in range(10000):\n",
        "    df.iloc[i]['나이'] = random.randrange(0,5)"
      ],
      "execution_count": null,
      "outputs": []
    },
    {
      "cell_type": "code",
      "metadata": {
        "id": "YomCMjxca-5J"
      },
      "source": [
        "job_wage = pd.read_csv('job_wage.csv')"
      ],
      "execution_count": null,
      "outputs": []
    },
    {
      "cell_type": "code",
      "metadata": {
        "id": "b6N3XDcUa-5K"
      },
      "source": [
        "# 20대 중 절반은 학생이고 소득은 연간 1000만원 이하 랜덤으로 번다고 가정\n",
        "# 학생이 아닌 나머지 직업들도 랜덤으로 배정하고 연간 소득은 10살마다 1000만원 증가한다고 가정\n",
        "# 재산은 소득의 5~10배 정도 있다고 가정함\n",
        "for i in range(10000):\n",
        "    if (df.iloc[i]['나이'][0] == 0) and (i%2==0) :\n",
        "        df.iloc[i]['직업'] = '학생'\n",
        "        df.iloc[i]['소득(연)'] = random.randrange(0,1000)\n",
        "        df.iloc[i]['자산'] = df.iloc[i]['소득(연)'] * random.randrange(5,11)\n",
        "    else:\n",
        "        j = random.randrange(0,622)\n",
        "        df.iloc[i]['직업'] = job_wage.iloc[j]['직업명']\n",
        "        df.iloc[i]['소득(연)'] = int(job_wage.iloc[j]['임금(만원)']) + df.iloc[i]['나이']*1000\n",
        "        df.iloc[i]['자산'] = df.iloc[i]['소득(연)'] * random.randrange(5,11)"
      ],
      "execution_count": null,
      "outputs": []
    },
    {
      "cell_type": "code",
      "metadata": {
        "id": "toVDkYIQa-5K"
      },
      "source": [
        "## 1년간의 월별 카드값 생성\n",
        "new_df = pd.DataFrame(columns = [['person_id','성별','나이','직업','소득(연)','자산','월별 카드 값','주식','선물옵션','장내채권']])\n",
        "for i in range(10000):\n",
        "    for _ in range(12):\n",
        "        new_df=new_df.append(df.iloc[i])"
      ],
      "execution_count": null,
      "outputs": []
    },
    {
      "cell_type": "code",
      "metadata": {
        "id": "ie5d768qa-5L",
        "outputId": "a5d5820f-fffe-4433-8a63-195f27c44afd"
      },
      "source": [
        "new_df"
      ],
      "execution_count": null,
      "outputs": [
        {
          "output_type": "execute_result",
          "data": {
            "text/html": [
              "<div>\n",
              "<style scoped>\n",
              "    .dataframe tbody tr th:only-of-type {\n",
              "        vertical-align: middle;\n",
              "    }\n",
              "\n",
              "    .dataframe tbody tr th {\n",
              "        vertical-align: top;\n",
              "    }\n",
              "\n",
              "    .dataframe thead tr th {\n",
              "        text-align: left;\n",
              "    }\n",
              "</style>\n",
              "<table border=\"1\" class=\"dataframe\">\n",
              "  <thead>\n",
              "    <tr>\n",
              "      <th></th>\n",
              "      <th>person_id</th>\n",
              "      <th>성별</th>\n",
              "      <th>나이</th>\n",
              "      <th>직업</th>\n",
              "      <th>소득(연)</th>\n",
              "      <th>자산</th>\n",
              "      <th>월별 카드 값</th>\n",
              "      <th>주식</th>\n",
              "      <th>선물옵션</th>\n",
              "      <th>장내채권</th>\n",
              "    </tr>\n",
              "  </thead>\n",
              "  <tbody>\n",
              "    <tr>\n",
              "      <th>0</th>\n",
              "      <td>10000</td>\n",
              "      <td>0</td>\n",
              "      <td>4</td>\n",
              "      <td>공군장교</td>\n",
              "      <td>6690</td>\n",
              "      <td>60210</td>\n",
              "      <td>NaN</td>\n",
              "      <td>NaN</td>\n",
              "      <td>NaN</td>\n",
              "      <td>NaN</td>\n",
              "    </tr>\n",
              "    <tr>\n",
              "      <th>0</th>\n",
              "      <td>10000</td>\n",
              "      <td>0</td>\n",
              "      <td>4</td>\n",
              "      <td>공군장교</td>\n",
              "      <td>6690</td>\n",
              "      <td>60210</td>\n",
              "      <td>NaN</td>\n",
              "      <td>NaN</td>\n",
              "      <td>NaN</td>\n",
              "      <td>NaN</td>\n",
              "    </tr>\n",
              "    <tr>\n",
              "      <th>0</th>\n",
              "      <td>10000</td>\n",
              "      <td>0</td>\n",
              "      <td>4</td>\n",
              "      <td>공군장교</td>\n",
              "      <td>6690</td>\n",
              "      <td>60210</td>\n",
              "      <td>NaN</td>\n",
              "      <td>NaN</td>\n",
              "      <td>NaN</td>\n",
              "      <td>NaN</td>\n",
              "    </tr>\n",
              "    <tr>\n",
              "      <th>0</th>\n",
              "      <td>10000</td>\n",
              "      <td>0</td>\n",
              "      <td>4</td>\n",
              "      <td>공군장교</td>\n",
              "      <td>6690</td>\n",
              "      <td>60210</td>\n",
              "      <td>NaN</td>\n",
              "      <td>NaN</td>\n",
              "      <td>NaN</td>\n",
              "      <td>NaN</td>\n",
              "    </tr>\n",
              "    <tr>\n",
              "      <th>0</th>\n",
              "      <td>10000</td>\n",
              "      <td>0</td>\n",
              "      <td>4</td>\n",
              "      <td>공군장교</td>\n",
              "      <td>6690</td>\n",
              "      <td>60210</td>\n",
              "      <td>NaN</td>\n",
              "      <td>NaN</td>\n",
              "      <td>NaN</td>\n",
              "      <td>NaN</td>\n",
              "    </tr>\n",
              "    <tr>\n",
              "      <th>...</th>\n",
              "      <td>...</td>\n",
              "      <td>...</td>\n",
              "      <td>...</td>\n",
              "      <td>...</td>\n",
              "      <td>...</td>\n",
              "      <td>...</td>\n",
              "      <td>...</td>\n",
              "      <td>...</td>\n",
              "      <td>...</td>\n",
              "      <td>...</td>\n",
              "    </tr>\n",
              "    <tr>\n",
              "      <th>9999</th>\n",
              "      <td>19999</td>\n",
              "      <td>0</td>\n",
              "      <td>0</td>\n",
              "      <td>사진인화 및 현상관련 조작원</td>\n",
              "      <td>2181</td>\n",
              "      <td>19629</td>\n",
              "      <td>NaN</td>\n",
              "      <td>NaN</td>\n",
              "      <td>NaN</td>\n",
              "      <td>NaN</td>\n",
              "    </tr>\n",
              "    <tr>\n",
              "      <th>9999</th>\n",
              "      <td>19999</td>\n",
              "      <td>0</td>\n",
              "      <td>0</td>\n",
              "      <td>사진인화 및 현상관련 조작원</td>\n",
              "      <td>2181</td>\n",
              "      <td>19629</td>\n",
              "      <td>NaN</td>\n",
              "      <td>NaN</td>\n",
              "      <td>NaN</td>\n",
              "      <td>NaN</td>\n",
              "    </tr>\n",
              "    <tr>\n",
              "      <th>9999</th>\n",
              "      <td>19999</td>\n",
              "      <td>0</td>\n",
              "      <td>0</td>\n",
              "      <td>사진인화 및 현상관련 조작원</td>\n",
              "      <td>2181</td>\n",
              "      <td>19629</td>\n",
              "      <td>NaN</td>\n",
              "      <td>NaN</td>\n",
              "      <td>NaN</td>\n",
              "      <td>NaN</td>\n",
              "    </tr>\n",
              "    <tr>\n",
              "      <th>9999</th>\n",
              "      <td>19999</td>\n",
              "      <td>0</td>\n",
              "      <td>0</td>\n",
              "      <td>사진인화 및 현상관련 조작원</td>\n",
              "      <td>2181</td>\n",
              "      <td>19629</td>\n",
              "      <td>NaN</td>\n",
              "      <td>NaN</td>\n",
              "      <td>NaN</td>\n",
              "      <td>NaN</td>\n",
              "    </tr>\n",
              "    <tr>\n",
              "      <th>9999</th>\n",
              "      <td>19999</td>\n",
              "      <td>0</td>\n",
              "      <td>0</td>\n",
              "      <td>사진인화 및 현상관련 조작원</td>\n",
              "      <td>2181</td>\n",
              "      <td>19629</td>\n",
              "      <td>NaN</td>\n",
              "      <td>NaN</td>\n",
              "      <td>NaN</td>\n",
              "      <td>NaN</td>\n",
              "    </tr>\n",
              "  </tbody>\n",
              "</table>\n",
              "<p>120000 rows × 10 columns</p>\n",
              "</div>"
            ],
            "text/plain": [
              "     person_id 성별 나이               직업 소득(연)     자산 월별 카드 값   주식 선물옵션 장내채권\n",
              "0        10000  0  4             공군장교  6690  60210     NaN  NaN  NaN  NaN\n",
              "0        10000  0  4             공군장교  6690  60210     NaN  NaN  NaN  NaN\n",
              "0        10000  0  4             공군장교  6690  60210     NaN  NaN  NaN  NaN\n",
              "0        10000  0  4             공군장교  6690  60210     NaN  NaN  NaN  NaN\n",
              "0        10000  0  4             공군장교  6690  60210     NaN  NaN  NaN  NaN\n",
              "...        ... .. ..              ...   ...    ...     ...  ...  ...  ...\n",
              "9999     19999  0  0  사진인화 및 현상관련 조작원  2181  19629     NaN  NaN  NaN  NaN\n",
              "9999     19999  0  0  사진인화 및 현상관련 조작원  2181  19629     NaN  NaN  NaN  NaN\n",
              "9999     19999  0  0  사진인화 및 현상관련 조작원  2181  19629     NaN  NaN  NaN  NaN\n",
              "9999     19999  0  0  사진인화 및 현상관련 조작원  2181  19629     NaN  NaN  NaN  NaN\n",
              "9999     19999  0  0  사진인화 및 현상관련 조작원  2181  19629     NaN  NaN  NaN  NaN\n",
              "\n",
              "[120000 rows x 10 columns]"
            ]
          },
          "metadata": {
            "tags": []
          },
          "execution_count": 42
        }
      ]
    },
    {
      "cell_type": "code",
      "metadata": {
        "id": "_pHHFAtba-5L"
      },
      "source": [
        "new_df.to_csv(\"test.csv\")"
      ],
      "execution_count": null,
      "outputs": []
    },
    {
      "cell_type": "code",
      "metadata": {
        "id": "STpbZMG_a-5M",
        "outputId": "73d45166-683f-495f-fea5-ed59892567db"
      },
      "source": [
        "new_df"
      ],
      "execution_count": null,
      "outputs": [
        {
          "output_type": "execute_result",
          "data": {
            "text/html": [
              "<div>\n",
              "<style scoped>\n",
              "    .dataframe tbody tr th:only-of-type {\n",
              "        vertical-align: middle;\n",
              "    }\n",
              "\n",
              "    .dataframe tbody tr th {\n",
              "        vertical-align: top;\n",
              "    }\n",
              "\n",
              "    .dataframe thead tr th {\n",
              "        text-align: left;\n",
              "    }\n",
              "</style>\n",
              "<table border=\"1\" class=\"dataframe\">\n",
              "  <thead>\n",
              "    <tr>\n",
              "      <th></th>\n",
              "      <th>person_id</th>\n",
              "      <th>성별</th>\n",
              "      <th>나이</th>\n",
              "      <th>직업</th>\n",
              "      <th>소득(연)</th>\n",
              "      <th>자산</th>\n",
              "      <th>월별 카드 값</th>\n",
              "      <th>주식</th>\n",
              "      <th>선물옵션</th>\n",
              "      <th>장내채권</th>\n",
              "    </tr>\n",
              "  </thead>\n",
              "  <tbody>\n",
              "    <tr>\n",
              "      <th>0</th>\n",
              "      <td>10000</td>\n",
              "      <td>0</td>\n",
              "      <td>4</td>\n",
              "      <td>공군장교</td>\n",
              "      <td>6690</td>\n",
              "      <td>60210</td>\n",
              "      <td>NaN</td>\n",
              "      <td>NaN</td>\n",
              "      <td>NaN</td>\n",
              "      <td>NaN</td>\n",
              "    </tr>\n",
              "    <tr>\n",
              "      <th>0</th>\n",
              "      <td>10000</td>\n",
              "      <td>0</td>\n",
              "      <td>4</td>\n",
              "      <td>공군장교</td>\n",
              "      <td>6690</td>\n",
              "      <td>60210</td>\n",
              "      <td>NaN</td>\n",
              "      <td>NaN</td>\n",
              "      <td>NaN</td>\n",
              "      <td>NaN</td>\n",
              "    </tr>\n",
              "    <tr>\n",
              "      <th>0</th>\n",
              "      <td>10000</td>\n",
              "      <td>0</td>\n",
              "      <td>4</td>\n",
              "      <td>공군장교</td>\n",
              "      <td>6690</td>\n",
              "      <td>60210</td>\n",
              "      <td>NaN</td>\n",
              "      <td>NaN</td>\n",
              "      <td>NaN</td>\n",
              "      <td>NaN</td>\n",
              "    </tr>\n",
              "    <tr>\n",
              "      <th>0</th>\n",
              "      <td>10000</td>\n",
              "      <td>0</td>\n",
              "      <td>4</td>\n",
              "      <td>공군장교</td>\n",
              "      <td>6690</td>\n",
              "      <td>60210</td>\n",
              "      <td>NaN</td>\n",
              "      <td>NaN</td>\n",
              "      <td>NaN</td>\n",
              "      <td>NaN</td>\n",
              "    </tr>\n",
              "    <tr>\n",
              "      <th>0</th>\n",
              "      <td>10000</td>\n",
              "      <td>0</td>\n",
              "      <td>4</td>\n",
              "      <td>공군장교</td>\n",
              "      <td>6690</td>\n",
              "      <td>60210</td>\n",
              "      <td>NaN</td>\n",
              "      <td>NaN</td>\n",
              "      <td>NaN</td>\n",
              "      <td>NaN</td>\n",
              "    </tr>\n",
              "    <tr>\n",
              "      <th>...</th>\n",
              "      <td>...</td>\n",
              "      <td>...</td>\n",
              "      <td>...</td>\n",
              "      <td>...</td>\n",
              "      <td>...</td>\n",
              "      <td>...</td>\n",
              "      <td>...</td>\n",
              "      <td>...</td>\n",
              "      <td>...</td>\n",
              "      <td>...</td>\n",
              "    </tr>\n",
              "    <tr>\n",
              "      <th>9999</th>\n",
              "      <td>19999</td>\n",
              "      <td>0</td>\n",
              "      <td>0</td>\n",
              "      <td>사진인화 및 현상관련 조작원</td>\n",
              "      <td>2181</td>\n",
              "      <td>19629</td>\n",
              "      <td>NaN</td>\n",
              "      <td>NaN</td>\n",
              "      <td>NaN</td>\n",
              "      <td>NaN</td>\n",
              "    </tr>\n",
              "    <tr>\n",
              "      <th>9999</th>\n",
              "      <td>19999</td>\n",
              "      <td>0</td>\n",
              "      <td>0</td>\n",
              "      <td>사진인화 및 현상관련 조작원</td>\n",
              "      <td>2181</td>\n",
              "      <td>19629</td>\n",
              "      <td>NaN</td>\n",
              "      <td>NaN</td>\n",
              "      <td>NaN</td>\n",
              "      <td>NaN</td>\n",
              "    </tr>\n",
              "    <tr>\n",
              "      <th>9999</th>\n",
              "      <td>19999</td>\n",
              "      <td>0</td>\n",
              "      <td>0</td>\n",
              "      <td>사진인화 및 현상관련 조작원</td>\n",
              "      <td>2181</td>\n",
              "      <td>19629</td>\n",
              "      <td>NaN</td>\n",
              "      <td>NaN</td>\n",
              "      <td>NaN</td>\n",
              "      <td>NaN</td>\n",
              "    </tr>\n",
              "    <tr>\n",
              "      <th>9999</th>\n",
              "      <td>19999</td>\n",
              "      <td>0</td>\n",
              "      <td>0</td>\n",
              "      <td>사진인화 및 현상관련 조작원</td>\n",
              "      <td>2181</td>\n",
              "      <td>19629</td>\n",
              "      <td>NaN</td>\n",
              "      <td>NaN</td>\n",
              "      <td>NaN</td>\n",
              "      <td>NaN</td>\n",
              "    </tr>\n",
              "    <tr>\n",
              "      <th>9999</th>\n",
              "      <td>19999</td>\n",
              "      <td>0</td>\n",
              "      <td>0</td>\n",
              "      <td>사진인화 및 현상관련 조작원</td>\n",
              "      <td>2181</td>\n",
              "      <td>19629</td>\n",
              "      <td>NaN</td>\n",
              "      <td>NaN</td>\n",
              "      <td>NaN</td>\n",
              "      <td>NaN</td>\n",
              "    </tr>\n",
              "  </tbody>\n",
              "</table>\n",
              "<p>120000 rows × 10 columns</p>\n",
              "</div>"
            ],
            "text/plain": [
              "     person_id 성별 나이               직업 소득(연)     자산 월별 카드 값   주식 선물옵션 장내채권\n",
              "0        10000  0  4             공군장교  6690  60210     NaN  NaN  NaN  NaN\n",
              "0        10000  0  4             공군장교  6690  60210     NaN  NaN  NaN  NaN\n",
              "0        10000  0  4             공군장교  6690  60210     NaN  NaN  NaN  NaN\n",
              "0        10000  0  4             공군장교  6690  60210     NaN  NaN  NaN  NaN\n",
              "0        10000  0  4             공군장교  6690  60210     NaN  NaN  NaN  NaN\n",
              "...        ... .. ..              ...   ...    ...     ...  ...  ...  ...\n",
              "9999     19999  0  0  사진인화 및 현상관련 조작원  2181  19629     NaN  NaN  NaN  NaN\n",
              "9999     19999  0  0  사진인화 및 현상관련 조작원  2181  19629     NaN  NaN  NaN  NaN\n",
              "9999     19999  0  0  사진인화 및 현상관련 조작원  2181  19629     NaN  NaN  NaN  NaN\n",
              "9999     19999  0  0  사진인화 및 현상관련 조작원  2181  19629     NaN  NaN  NaN  NaN\n",
              "9999     19999  0  0  사진인화 및 현상관련 조작원  2181  19629     NaN  NaN  NaN  NaN\n",
              "\n",
              "[120000 rows x 10 columns]"
            ]
          },
          "metadata": {
            "tags": []
          },
          "execution_count": 44
        }
      ]
    },
    {
      "cell_type": "code",
      "metadata": {
        "id": "OatLDsPda-5M"
      },
      "source": [
        "# 월별 카드 값은 자신의 월급의 30~50퍼센트 사용\n",
        "# 주식 상품의 경우 자신의 월급의 0~30퍼센트 사용\n",
        "# 선물 옵션의 경우 자신의 월급의 0~10퍼센트 사용\n",
        "# 장내채권의 경우 자신의 월급의 0~10퍼센트 사용\n",
        "# 20%의 사람들은 한번도 주식을 사본적 없는 사람들임\n",
        "for i in range(120000):\n",
        "    new_df.iloc[i]['월별 카드 값'] = int(new_df.iloc[i]['소득(연)']/12*(random.uniform(0.3,0.5)))\n",
        "for i in range(96000):\n",
        "    new_df.iloc[i]['주식'] = int(new_df.iloc[i]['소득(연)']/12*(random.uniform(0,0.3)))\n",
        "    new_df.iloc[i]['선물옵션'] = int(new_df.iloc[i]['소득(연)']/12*(random.uniform(0,0.1)))\n",
        "    new_df.iloc[i]['장내채권'] = int(new_df.iloc[i]['소득(연)']/12*(random.uniform(0,0.1)))"
      ],
      "execution_count": null,
      "outputs": []
    },
    {
      "cell_type": "code",
      "metadata": {
        "id": "yfQNwAQ9a-5N"
      },
      "source": [
        "df=new_df.fillna(0)"
      ],
      "execution_count": null,
      "outputs": []
    },
    {
      "cell_type": "code",
      "metadata": {
        "id": "I8QKOifba-5O"
      },
      "source": [
        "mon=[i for _ in range(10000) for i in range(1,13) ]"
      ],
      "execution_count": null,
      "outputs": []
    },
    {
      "cell_type": "code",
      "metadata": {
        "id": "HzEFReFpa-5O"
      },
      "source": [
        "df.insert(0, '월',mon)"
      ],
      "execution_count": null,
      "outputs": []
    },
    {
      "cell_type": "code",
      "metadata": {
        "id": "hg4cwWCXa-5O"
      },
      "source": [
        "df.to_csv(\"sk_data.csv\")"
      ],
      "execution_count": null,
      "outputs": []
    },
    {
      "cell_type": "code",
      "metadata": {
        "id": "vxI8B6FQa-5O"
      },
      "source": [
        ""
      ],
      "execution_count": null,
      "outputs": []
    }
  ]
}